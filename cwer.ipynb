{
 "cells": [
  {
   "cell_type": "markdown",
   "id": "18231cc8",
   "metadata": {},
   "source": [
    "# Q1\n"
   ]
  },
  {
   "cell_type": "code",
   "execution_count": 2,
   "id": "6d104858",
   "metadata": {},
   "outputs": [
    {
     "name": "stdout",
     "output_type": "stream",
     "text": [
      "5 is of type int\n",
      "5.0 is of type float\n",
      "True is of type bool\n",
      "5 is of type str\n",
      "10 is of type int\n",
      "55 is of type str\n",
      "52 is of type str\n",
      "2.5 is of type float\n",
      "1 is of type int\n",
      "{1, 2, 5} is of type set\n",
      "False is of type bool\n",
      "3.141592653589793 is of type float\n"
     ]
    }
   ],
   "source": [
    "from math import pi\n",
    "# Data type evaluation\n",
    "data = [\n",
    "    5,\n",
    "    5.0,\n",
    "    5 > 1,\n",
    "    '5',\n",
    "    5 * 2,\n",
    "    '5' * 2,\n",
    "    '5' + '2',\n",
    "    5 / 2,\n",
    "    5 % 2,\n",
    "    {5, 2, 1},\n",
    "    5 == 3,\n",
    "    pi\n",
    "]\n",
    "\n",
    "# Loop through each input and print its data type\n",
    "for item in data:\n",
    "    print(f'{item} is of type {type(item).__name__}')"
   ]
  },
  {
   "cell_type": "markdown",
   "id": "0e601fef",
   "metadata": {},
   "source": [
    "# Q2"
   ]
  },
  {
   "cell_type": "code",
   "execution_count": 12,
   "id": "e5f0d23e",
   "metadata": {},
   "outputs": [
    {
     "name": "stdout",
     "output_type": "stream",
     "text": [
      "\n",
      "a).\n",
      "34\n",
      "\n",
      "b).\n",
      "True\n",
      "\n",
      "c).\n",
      "Supercalifragilisticexpialidocious\n",
      "\n",
      "d).\n",
      "First composer: Bartok\n",
      "Last composer: Buxtehude\n"
     ]
    }
   ],
   "source": [
    "# Question a: How many letters are there in 'Supercalifragilisticexpialidocious'?\n",
    "word = 'Supercalifragilisticexpialidocious'\n",
    "letter_count = len(word)\n",
    "print(\"\\na).\")\n",
    "print(letter_count)\n",
    "\n",
    "# Question b: Does 'Supercalifragilisticexpialidocious' contain 'ice' as a substring?\n",
    "substring = 'ice'\n",
    "contains_substring = substring in word\n",
    "print(\"\\nb).\")\n",
    "print(contains_substring)\n",
    "\n",
    "# Question c: Which word is the longest?\n",
    "words = ['Supercalifragilisticexpialidocious', 'Honorificabilitudinitatibus', 'Bababadalgharaghtakamminarronnkonn']\n",
    "longest_word = max(words, key=len)\n",
    "print(\"\\nc).\")\n",
    "print(longest_word)\n",
    "\n",
    "# Question d: Which composer comes first and last in the dictionary?\n",
    "composers = ['Berlioz', 'Borodin', 'Brian', 'Bartok', 'Bellini', 'Buxtehude', 'Bernstein']\n",
    "composers.sort()\n",
    "first_composer = composers[0]\n",
    "last_composer = composers[-1]\n",
    "print(\"\\nd).\")\n",
    "print(\"First composer:\", first_composer)\n",
    "print(\"Last composer:\", last_composer)\n"
   ]
  },
  {
   "cell_type": "markdown",
   "id": "23a7f4fb",
   "metadata": {},
   "source": [
    "# Q3"
   ]
  },
  {
   "cell_type": "code",
   "execution_count": 4,
   "id": "aceaf16b",
   "metadata": {},
   "outputs": [
    {
     "name": "stdout",
     "output_type": "stream",
     "text": [
      "Enter the length of side 1: 2\n",
      "Enter the length of side 2: 2\n",
      "Enter the length of side 3: 2\n",
      "Area of the triangle: 1.7320508075688772\n"
     ]
    }
   ],
   "source": [
    "import math\n",
    "\n",
    "def triangleArea(a, b, c):\n",
    "    # Calculate the semi-perimeter\n",
    "    s = (a + b + c) / 2\n",
    "\n",
    "    # Calculate the area using Heron's formula\n",
    "    area = math.sqrt(s * (s - a) * (s - b) * (s - c))\n",
    "\n",
    "    return area\n",
    "\n",
    "# User input for triangle side lengths\n",
    "side1 = float(input(\"Enter the length of side 1: \"))\n",
    "side2 = float(input(\"Enter the length of side 2: \"))\n",
    "side3 = float(input(\"Enter the length of side 3: \"))\n",
    "\n",
    "# Calculate and print the area\n",
    "area = triangleArea(side1, side2, side3)\n",
    "print(\"Area of the triangle:\", area)\n"
   ]
  },
  {
   "cell_type": "markdown",
   "id": "b0e1997b",
   "metadata": {},
   "source": [
    "# Q4"
   ]
  },
  {
   "cell_type": "code",
   "execution_count": 5,
   "id": "fe4e78c2",
   "metadata": {},
   "outputs": [
    {
     "name": "stdout",
     "output_type": "stream",
     "text": [
      "Input the number of elements to be stored in the array: 5\n",
      "Element - 0: 25\n",
      "Element - 1: 47\n",
      "Element - 2: 42\n",
      "Element - 3: 56\n",
      "Element - 4: 32\n",
      "The Even elements are:\n",
      "42 56 32 \n",
      "The Odd elements are:\n",
      "25 47 "
     ]
    }
   ],
   "source": [
    "# Input the number of elements\n",
    "num_elements = int(input(\"Input the number of elements to be stored in the array: \"))\n",
    "\n",
    "# Input the elements\n",
    "elements = []\n",
    "for i in range(num_elements):\n",
    "    element = int(input(f\"Element - {i}: \"))\n",
    "    elements.append(element)\n",
    "\n",
    "# Separate odd and even elements\n",
    "even_elements = []\n",
    "odd_elements = []\n",
    "\n",
    "for element in elements:\n",
    "    if element % 2 == 0:\n",
    "        even_elements.append(element)\n",
    "    else:\n",
    "        odd_elements.append(element)\n",
    "\n",
    "# Print the even elements\n",
    "print(\"The Even elements are:\")\n",
    "for even_element in even_elements:\n",
    "    print(even_element, end=\" \")\n",
    "\n",
    "# Print the odd elements\n",
    "print(\"\\nThe Odd elements are:\")\n",
    "for odd_element in odd_elements:\n",
    "    print(odd_element, end=\" \")\n"
   ]
  },
  {
   "cell_type": "markdown",
   "id": "b4a291d8",
   "metadata": {},
   "source": [
    "# Q5"
   ]
  },
  {
   "cell_type": "code",
   "execution_count": 14,
   "id": "3d586e0c",
   "metadata": {},
   "outputs": [
    {
     "name": "stdout",
     "output_type": "stream",
     "text": [
      "Enter the x-coordinate of the point: 1\n",
      "Enter the y-coordinate of the point: 1\n",
      "Enter the x-coordinate of the lower left corner: 0\n",
      "Enter the y-coordinate of the lower left corner: 0\n",
      "Enter the x-coordinate of the upper right corner: 2\n",
      "Enter the y-coordinate of the upper right corner: 3\n",
      "True. The point lies inside the rectangle.\n",
      "\n",
      "\n",
      "Enter the x-coordinate of the point: -1\n",
      "Enter the y-coordinate of the point: -1\n",
      "Enter the x-coordinate of the lower left corner: 0\n",
      "Enter the y-coordinate of the lower left corner: 0\n",
      "Enter the x-coordinate of the upper right corner: 2\n",
      "Enter the y-coordinate of the upper right corner: 3\n",
      "False. The point does not lie inside the rectangle.\n"
     ]
    }
   ],
   "source": [
    "def inside(x, y, x1, y1, x2, y2):\n",
    "    if x >= x1 and x <= x2 and y >= y1 and y <= y2:\n",
    "        return True\n",
    "    else:\n",
    "        return False\n",
    "print(input(x))\n",
    "print(input(y))\n",
    "print(input(x1))\n",
    "print(input(y1))\n",
    "print(input(x2))\n",
    "print(input(y2))\n"
   ]
  },
  {
   "cell_type": "markdown",
   "id": "be907f69",
   "metadata": {},
   "source": [
    "# Q6"
   ]
  },
  {
   "cell_type": "code",
   "execution_count": 16,
   "id": "d12012ba",
   "metadata": {},
   "outputs": [
    {
     "name": "stdout",
     "output_type": "stream",
     "text": [
      "Enter the number of words: 2\n",
      "Enter word 1: happy\n",
      "Enter word 2: Enter\n",
      "The pig Latin form of 'happy' is 'appyhay'\n",
      "The pig Latin form of 'Enter' is 'enterway'\n"
     ]
    }
   ],
   "source": [
    "def pig(word):\n",
    "    vowels = ['a', 'e', 'i', 'o', 'u']\n",
    "    word = word.lower()\n",
    "\n",
    "    if word[0] in vowels:\n",
    "        pig_word = word + 'way'\n",
    "    else:\n",
    "        pig_word = word[1:] + word[0] + 'ay'\n",
    "\n",
    "    return pig_word\n",
    "\n",
    "# User input\n",
    "num_words = int(input(\"Enter the number of words: \"))\n",
    "words = []\n",
    "pig_words = []\n",
    "\n",
    "# Get words from the user\n",
    "for i in range(num_words):\n",
    "    word = input(f\"Enter word {i + 1}: \")\n",
    "    words.append(word)\n",
    "    pig_words.append(pig(word))\n",
    "\n",
    "# Display the pig Latin forms\n",
    "for i in range(num_words):\n",
    "    print(f\"The pig Latin form of '{words[i]}' is '{pig_words[i]}'\")\n"
   ]
  },
  {
   "cell_type": "markdown",
   "id": "3629b3e4",
   "metadata": {},
   "source": [
    "# Q7"
   ]
  },
  {
   "cell_type": "code",
   "execution_count": 17,
   "id": "80b6e50c",
   "metadata": {},
   "outputs": [
    {
     "name": "stdout",
     "output_type": "stream",
     "text": [
      "There are 15 patients of blood type A.\n",
      "There is 1 patient of blood type B.\n",
      "There are 13 patients of blood type AB.\n",
      "There are 15 patients of blood type O.\n",
      "There are 0 patients of blood type OO.\n"
     ]
    }
   ],
   "source": [
    "def bldcount(filename):\n",
    "    blood_types = ['A', 'B', 'AB', 'O', 'OO']\n",
    "    count = {blood_type: 0 for blood_type in blood_types}\n",
    "\n",
    "    try:\n",
    "        with open(filename, 'r') as file:\n",
    "            for line in file:\n",
    "                line = line.strip()\n",
    "                if line in blood_types:\n",
    "                    count[line] += 1\n",
    "\n",
    "        for blood_type in blood_types:\n",
    "            patient_count = count[blood_type]\n",
    "            if patient_count == 1:\n",
    "                print(f\"There is 1 patient of blood type {blood_type}.\")\n",
    "            else:\n",
    "                print(f\"There are {patient_count} patients of blood type {blood_type}.\")\n",
    "\n",
    "    except FileNotFoundError:\n",
    "        print(f\"File '{filename}' not found.\")\n",
    "\n",
    "bldcount('bloodtype.txt')\n"
   ]
  },
  {
   "cell_type": "markdown",
   "id": "1a19859a",
   "metadata": {},
   "source": [
    "# Q8"
   ]
  },
  {
   "cell_type": "code",
   "execution_count": 19,
   "id": "8fd2eece",
   "metadata": {},
   "outputs": [
    {
     "name": "stdout",
     "output_type": "stream",
     "text": [
      "Enter the currency: EUR\n",
      "Enter the amount: 100\n",
      "122.96544\n",
      "Enter the currency: JPY\n",
      "Enter the amount: 100\n",
      "1.241401\n"
     ]
    }
   ],
   "source": [
    "def read_currency_dict(filename):\n",
    "    currency_dict = {}\n",
    "    with open(filename, \"r\") as file:\n",
    "        for line in file:\n",
    "            currency, price = line.split()\n",
    "            currency_dict[currency] = float(price)\n",
    "    return currency_dict\n",
    "\n",
    "def convert_to_usd(currency_dict):\n",
    "    currency = input(\"Enter the currency: \")\n",
    "    amount = float(input(\"Enter the amount: \"))\n",
    "\n",
    "    if currency in currency_dict:\n",
    "        usd_amount = amount * currency_dict[currency]\n",
    "        return usd_amount\n",
    "    else:\n",
    "        return \"Currency not found in the list.\"\n",
    "\n",
    "# Read currency prices from the text file and store them in a dictionary\n",
    "currency_dict = read_currency_dict(\"currencies.txt\")\n",
    "\n",
    "# Convert the amount to USD\n",
    "result1 = convert_to_usd(currency_dict)\n",
    "print(result1)\n",
    "\n",
    "# Example usage\n",
    "result2 = convert_to_usd(currency_dict)\n",
    "print(result2)\n"
   ]
  },
  {
   "cell_type": "markdown",
   "id": "c2c380b0",
   "metadata": {},
   "source": [
    "# Q9"
   ]
  },
  {
   "cell_type": "markdown",
   "id": "ade9a550",
   "metadata": {},
   "source": [
    "Attempting to add incompatible variables, such as 6 + 'a', will result in a TypeError exception. Python does not support combining distinct types, such as an integer and a text.\n",
    "\n",
    "Referring to the 12th item in a list of just ten items: This will result in an IndexError error. Accessing an index that is not inside the list's range will result in an error.\n",
    "\n",
    "Using an out-of-range value for a function's input, such as math.sqrt(-1.0): This will result in a ValueError exception. Because the math.sqrt() method expects a non-negative number, supplying a negative value will result in an error.\n",
    "\n",
    "Using an undeclared variable, such as print(x), when x has not been defined: A NameError exception will be thrown. An error will occur if you refer to a variable that has not been declared or defined.\n",
    "\n",
    "Attempting to open a file that does not exist, such as by inputting the file name incorrectly or seeking in the wrong directory, will result in a FileNotFoundError exception. When trying to open a file that does not exist at the supplied location, Python will throw this error.\n",
    "\n",
    "\n",
    "\n",
    "\n"
   ]
  },
  {
   "cell_type": "markdown",
   "id": "1310bb13",
   "metadata": {},
   "source": [
    "# Q10"
   ]
  },
  {
   "cell_type": "code",
   "execution_count": 20,
   "id": "157ddc45",
   "metadata": {},
   "outputs": [
    {
     "name": "stdout",
     "output_type": "stream",
     "text": [
      "Enter the text: The quick red fox got bored and went home\n",
      "[1, 1, 1, 3, 5, 1, 1, 2, 1, 0, 1, 0, 1, 2, 4, 0, 1, 2, 0, 3, 1, 0, 1, 1, 0, 0]\n",
      "Enter the text: apple\n",
      "[1, 0, 0, 0, 1, 0, 0, 0, 0, 0, 0, 1, 0, 0, 0, 2, 0, 0, 0, 0, 0, 0, 0, 0, 0, 0]\n"
     ]
    }
   ],
   "source": [
    "def frequencies(text):\n",
    "    freq_dict = {}\n",
    "\n",
    "    for char in text.lower():\n",
    "        if char.isalpha():\n",
    "            if char in freq_dict:\n",
    "                freq_dict[char] += 1\n",
    "            else:\n",
    "                freq_dict[char] = 1\n",
    "\n",
    "    freq_list = [freq_dict.get(chr(ord('a') + i), 0) for i in range(26)]\n",
    "    return freq_list\n",
    "\n",
    "# Example usage\n",
    "text = input(\"Enter the text: \")\n",
    "result1 = frequencies(text)\n",
    "print(result1)\n",
    "\n",
    "# Example usage\n",
    "text = input(\"Enter the text: \")\n",
    "result2 = frequencies(text)\n",
    "print(result2)\n"
   ]
  },
  {
   "cell_type": "code",
   "execution_count": null,
   "id": "558d2573",
   "metadata": {},
   "outputs": [],
   "source": []
  },
  {
   "cell_type": "code",
   "execution_count": null,
   "id": "9cb264be",
   "metadata": {},
   "outputs": [],
   "source": []
  }
 ],
 "metadata": {
  "kernelspec": {
   "display_name": "Python 3 (ipykernel)",
   "language": "python",
   "name": "python3"
  },
  "language_info": {
   "codemirror_mode": {
    "name": "ipython",
    "version": 3
   },
   "file_extension": ".py",
   "mimetype": "text/x-python",
   "name": "python",
   "nbconvert_exporter": "python",
   "pygments_lexer": "ipython3",
   "version": "3.10.9"
  }
 },
 "nbformat": 4,
 "nbformat_minor": 5
}
